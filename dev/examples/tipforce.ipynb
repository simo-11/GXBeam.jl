{
 "cells": [
  {
   "cell_type": "markdown",
   "source": [
    "# Cantilever with a Tip Force\n",
    "\n",
    "This example shows how to predict the behavior of a cantilever beam that is subjected\n",
    "to a constant shear force at the tip.\n",
    "\n",
    "![](../assets/tipforce-drawing.svg)"
   ],
   "metadata": {}
  },
  {
   "outputs": [],
   "cell_type": "code",
   "source": [
    "using GXBeam, LinearAlgebra\n",
    "\n",
    "L = 1\n",
    "EI = 1e6\n",
    "\n",
    "# shear force (applied at end)\n",
    "λ = 0:0.5:16\n",
    "p = EI/L^2\n",
    "P = λ*p\n",
    "\n",
    "# create points\n",
    "nelem = 16\n",
    "x = range(0, L, length=nelem+1)\n",
    "y = zero(x)\n",
    "z = zero(x)\n",
    "points = [[x[i],y[i],z[i]] for i = 1:length(x)]\n",
    "\n",
    "# index of endpoints of each beam element\n",
    "start = 1:nelem\n",
    "stop = 2:nelem+1\n",
    "\n",
    "# compliance matrix for each beam element\n",
    "compliance = fill(Diagonal([0, 0, 0, 0, 1/EI, 0]), nelem)\n",
    "\n",
    "# create assembly of interconnected nonlinear beams\n",
    "assembly = Assembly(points, start, stop, compliance=compliance)\n",
    "\n",
    "# pre-initialize system storage\n",
    "system = System(assembly, true)\n",
    "\n",
    "# run an analysis for each prescribed tip load\n",
    "states = Vector{AssemblyState{Float64}}(undef, length(P))\n",
    "for i = 1:length(P)\n",
    "\n",
    "    # create dictionary of prescribed conditions\n",
    "    prescribed_conditions = Dict(\n",
    "        # fixed left side\n",
    "        1 => PrescribedConditions(ux=0, uy=0, uz=0, theta_x=0, theta_y=0,\n",
    "            theta_z=0),\n",
    "        # shear force on right tip\n",
    "        nelem+1 => PrescribedConditions(Fz = P[i])\n",
    "    )\n",
    "\n",
    "    # perform a static analysis\n",
    "    static_analysis!(system, assembly;\n",
    "        prescribed_conditions=prescribed_conditions)\n",
    "\n",
    "    # post-process the results\n",
    "    states[i] = AssemblyState(system, assembly;\n",
    "        prescribed_conditions=prescribed_conditions)\n",
    "\n",
    "end\n",
    "\n",
    "nothing #hide"
   ],
   "metadata": {},
   "execution_count": 1
  },
  {
   "cell_type": "markdown",
   "source": [
    "The analytical solution to this problem has been presented by several authors.  Here\n",
    "we follow the solution by H. J. Barten in \"On the Deflection of a Cantilever Beam\",\n",
    "after incorporating the corrections they submitted for finding the tip angle."
   ],
   "metadata": {}
  },
  {
   "outputs": [],
   "cell_type": "code",
   "source": [
    "import Elliptic\n",
    "\n",
    "δ = range(pi/4, pi/2, length=10^5)[2:end-1]\n",
    "\n",
    "k = @. cos(pi/4)/sin(δ)\n",
    "λ_a = @. (Elliptic.F(pi/2, k^2) - Elliptic.F(δ,  k^2))^2\n",
    "\n",
    "θ_a = @. 2*(pi/4 - acos(k))\n",
    "\n",
    "ξ_a = @. sqrt(2*sin(θ_a)/λ_a) .- 1\n",
    "\n",
    "η_a = @. 1-2/sqrt(λ_a)*(Elliptic.E(pi/2, k^2) - Elliptic.E(δ, k^2))\n",
    "\n",
    "nothing #hide"
   ],
   "metadata": {},
   "execution_count": 2
  },
  {
   "cell_type": "markdown",
   "source": [
    "Plotting the results reveals that the analytical and computational solutions show\n",
    "excellent agreement."
   ],
   "metadata": {}
  },
  {
   "outputs": [],
   "cell_type": "code",
   "source": [
    "using Plots\n",
    "pyplot()\n",
    "nothing #hide"
   ],
   "metadata": {},
   "execution_count": 3
  },
  {
   "outputs": [],
   "cell_type": "code",
   "source": [
    "u = [states[i].points[end].u[1] for i = 1:length(P)]\n",
    "θ = [states[i].points[end].theta[2] for i = 1:length(P)]\n",
    "w = [states[i].points[end].u[3] for i = 1:length(P)]\n",
    "\n",
    "# set up the plot\n",
    "plot(\n",
    "    xlim = (0, 16),\n",
    "    xticks = 0:1:16,\n",
    "    xlabel = \"Nondimensional Force \\$\\\\left(\\\\frac{PL^2}{EI}\\\\right)\\$\",\n",
    "    ylim = (0, 1.2),\n",
    "    yticks = 0.0:0.2:1.2,\n",
    "    ylabel = \"Nondimensional Tip Displacements\",\n",
    "    grid = false,\n",
    "    overwrite_figure=false\n",
    "    )\n",
    "\n",
    "plot!([0], [0], color=:black, label=\"Analytical\")\n",
    "scatter!([0], [0], color=:black, label=\"GXBeam\")\n",
    "plot!([0], [0], color=1, label=\"Vertical \\$\\\\left(w/L\\\\right)\\$\")\n",
    "plot!([0], [0], color=2, label=\"Horizontal \\$\\\\left(-u/L\\\\right)\\$\")\n",
    "plot!([0], [0], color=3, label=\"\\$ \\\\theta/(\\\\pi/2) \\$\")\n",
    "\n",
    "plot!(λ_a, η_a, color=1, label=\"\")\n",
    "scatter!(λ, w/L, color=1, label=\"\")\n",
    "\n",
    "plot!(λ_a, -ξ_a, color=2, label=\"\")\n",
    "scatter!(λ, -u/L, color=2, label=\"\")\n",
    "\n",
    "plot!(λ_a, θ_a*2/pi, color=3, label=\"\")\n",
    "scatter!(λ, -4*atan.(θ/4)*2/pi, color=3, label=\"\")\n",
    "\n",
    "plot!(show=true)\n",
    "nothing #hide"
   ],
   "metadata": {},
   "execution_count": 4
  },
  {
   "cell_type": "markdown",
   "source": [
    "---\n",
    "\n",
    "*This notebook was generated using [Literate.jl](https://github.com/fredrikekre/Literate.jl).*"
   ],
   "metadata": {}
  }
 ],
 "nbformat_minor": 3,
 "metadata": {
  "language_info": {
   "file_extension": ".jl",
   "mimetype": "application/julia",
   "name": "julia",
   "version": "1.6.5"
  },
  "kernelspec": {
   "name": "julia-1.6",
   "display_name": "Julia 1.6.5",
   "language": "julia"
  }
 },
 "nbformat": 4
}
