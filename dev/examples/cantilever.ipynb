{
 "cells": [
  {
   "cell_type": "markdown",
   "source": [
    "# Cantilever with a Uniform Load\n",
    "\n",
    "This example shows how to predict the behavior of a cantilever beam which is partially\n",
    "subjected to a uniform distributed load.\n",
    "\n",
    "![](../assets/cantilever-drawing.svg)"
   ],
   "metadata": {}
  },
  {
   "outputs": [],
   "cell_type": "code",
   "source": [
    "using GXBeam, LinearAlgebra\n",
    "\n",
    "nelem = 12\n",
    "\n",
    "# create points\n",
    "a = 0.3\n",
    "b = 0.7\n",
    "L = 1.0\n",
    "n1 = n3 = div(nelem, 3)\n",
    "n2 = nelem - n1 - n3\n",
    "x1 = range(0, 0.3, length=n1+1)\n",
    "x2 = range(0.3, 0.7, length=n2+1)\n",
    "x3 = range(0.7, 1.0, length=n3+1)\n",
    "x = vcat(x1, x2[2:end], x3[2:end])\n",
    "y = zero(x)\n",
    "z = zero(x)\n",
    "points = [[x[i],y[i],z[i]] for i = 1:length(x)]\n",
    "\n",
    "# index of endpoints for each beam element\n",
    "start = 1:nelem\n",
    "stop = 2:nelem+1\n",
    "\n",
    "# create compliance matrix for each beam element\n",
    "EI = 1e9\n",
    "compliance = fill(Diagonal([0, 0, 0, 0, 1/EI, 0]), nelem)\n",
    "\n",
    "# create assembly\n",
    "assembly = Assembly(points, start, stop, compliance=compliance)\n",
    "\n",
    "# set prescribed conditions (fixed right endpoint)\n",
    "prescribed_conditions = Dict(\n",
    "    nelem+1 => PrescribedConditions(ux=0, uy=0, uz=0, theta_x=0, theta_y=0,\n",
    "    theta_z=0)\n",
    ")\n",
    "\n",
    "# create distributed load\n",
    "q = 1000\n",
    "distributed_loads = Dict(\n",
    "    ielem => DistributedLoads(assembly, ielem; fz = (s) -> q) for ielem in\n",
    "    n1+1:n1+n2\n",
    ")\n",
    "\n",
    "system, converged = static_analysis(assembly;\n",
    "    prescribed_conditions = prescribed_conditions,\n",
    "    distributed_loads = distributed_loads,\n",
    "    linear = true)\n",
    "\n",
    "state = AssemblyState(system, assembly;\n",
    "    prescribed_conditions = prescribed_conditions)\n",
    "\n",
    "nothing #hide"
   ],
   "metadata": {},
   "execution_count": 1
  },
  {
   "cell_type": "markdown",
   "source": [
    "We can construct the analytical solution for this problem by integrating from the free end of the beam and applying the appropriate boundary conditions."
   ],
   "metadata": {}
  },
  {
   "outputs": [],
   "cell_type": "code",
   "source": [
    "# construct analytical solution\n",
    "dx = 1e-6\n",
    "x_a = 0.0:dx:L\n",
    "q_a = (x) -> a <= x <= b ? -q : 0 # define distributed load\n",
    "V_a = cumsum(-q_a.(x_a) .* dx) # integrate to get shear\n",
    "M_a = cumsum(V_a .* dx) # integrate to get moment\n",
    "slope_a = cumsum(M_a./EI .* dx) # integrate to get slope\n",
    "slope_a .-= slope_a[end] # apply boundary condition\n",
    "deflection_a = cumsum(slope_a .* dx) # integrate to get deflection\n",
    "deflection_a .-= deflection_a[end] # apply boundary condition\n",
    "\n",
    "# get elastic twist angle\n",
    "theta_a = -atan.(slope_a)\n",
    "\n",
    "# switch analytical system frame of reference\n",
    "M_a = -M_a\n",
    "\n",
    "nothing #hide"
   ],
   "metadata": {},
   "execution_count": 2
  },
  {
   "cell_type": "markdown",
   "source": [
    "Plotting the results reveals that the analytical and computational solutions show\n",
    "excellent agreement."
   ],
   "metadata": {}
  },
  {
   "outputs": [],
   "cell_type": "code",
   "source": [
    "using Plots\n",
    "pyplot()\n",
    "nothing #hide"
   ],
   "metadata": {},
   "execution_count": 3
  },
  {
   "outputs": [],
   "cell_type": "code",
   "source": [
    "# deflection plot\n",
    "plot(\n",
    "    xlim = (0.0, 1.0),\n",
    "    xticks = 0.0:0.2:1.0,\n",
    "    xlabel = \"x (m)\",\n",
    "    ylabel = \"Deflection (m)\",\n",
    "    grid = false,\n",
    "    overwrite_figure=false\n",
    "    )\n",
    "\n",
    "x = [assembly.points[ipoint][1] + state.points[ipoint].u[1] for ipoint =\n",
    "    1:length(assembly.points)]\n",
    "deflection = [state.points[ipoint].u[3] for ipoint = 1:length(assembly.points)]\n",
    "plot!(x_a, deflection_a, label=\"Analytical\")\n",
    "scatter!(x, deflection, label=\"GXBeam\")\n",
    "plot!(show=true)\n",
    "\n",
    "nothing #hide"
   ],
   "metadata": {},
   "execution_count": 4
  },
  {
   "outputs": [],
   "cell_type": "code",
   "source": [
    "# elastic twist plot (euler angle)\n",
    "plot(\n",
    "    xlim = (0.0, 1.0),\n",
    "    xticks = 0.0:0.2:1.0,\n",
    "    xlabel = \"x (m)\",\n",
    "    ylabel = \"Rotation Angle (rad)\",\n",
    "    grid = false,\n",
    "    overwrite_figure=false\n",
    "    )\n",
    "\n",
    "x = [assembly.points[ipoint][1] + state.points[ipoint].u[1]\n",
    "    for ipoint = 1:length(assembly.points)]\n",
    "theta = [4*atan.(state.points[ipoint].theta[2]/4) for ipoint =\n",
    "    1:length(assembly.points)]\n",
    "plot!(x_a, theta_a, label=\"Analytical\")\n",
    "scatter!(x, theta, label=\"GXBeam\")\n",
    "plot!(show=true)\n",
    "nothing #hide"
   ],
   "metadata": {},
   "execution_count": 5
  },
  {
   "outputs": [],
   "cell_type": "code",
   "source": [
    "# bending moment plot\n",
    "plot(\n",
    "    xlim = (0.0, 1.0),\n",
    "    xticks = 0.0:0.2:1.0,\n",
    "    xlabel = \"x (m)\",\n",
    "    ylabel = \"Bending Moment (\\$Nm\\$)\",\n",
    "    grid = false,\n",
    "    overwrite_figure=false\n",
    "    )\n",
    "\n",
    "x = [assembly.elements[ielem].x[1] + state.elements[ielem].u[1] for\n",
    "    ielem = 1:length(assembly.elements)]\n",
    "M = [state.elements[ielem].M[2] for ielem = 1:length(assembly.elements)]\n",
    "plot!(x_a, M_a, label=\"Analytical\")\n",
    "scatter!(x, M, label=\"GXBeam\")\n",
    "plot!(show=true)\n",
    "nothing #hide"
   ],
   "metadata": {},
   "execution_count": 6
  },
  {
   "cell_type": "markdown",
   "source": [
    "Note that we could have easily performed a nonlinear analysis for this problem by setting\n",
    "`linear=false`."
   ],
   "metadata": {}
  },
  {
   "cell_type": "markdown",
   "source": [
    "---\n",
    "\n",
    "*This notebook was generated using [Literate.jl](https://github.com/fredrikekre/Literate.jl).*"
   ],
   "metadata": {}
  }
 ],
 "nbformat_minor": 3,
 "metadata": {
  "language_info": {
   "file_extension": ".jl",
   "mimetype": "application/julia",
   "name": "julia",
   "version": "1.6.5"
  },
  "kernelspec": {
   "name": "julia-1.6",
   "display_name": "Julia 1.6.5",
   "language": "julia"
  }
 },
 "nbformat": 4
}
