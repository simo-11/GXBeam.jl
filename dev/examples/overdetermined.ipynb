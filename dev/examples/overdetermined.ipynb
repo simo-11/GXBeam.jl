{
 "cells": [
  {
   "cell_type": "markdown",
   "source": [
    "# Overdetermined Beam\n",
    "\n",
    "This example shows how to predict the behavior of a beam which is clamped at one end and\n",
    "simply supported at the other end when subjected to a linear distributed load.\n",
    "\n",
    "![](../assets/overdetermined-drawing.svg)"
   ],
   "metadata": {}
  },
  {
   "outputs": [],
   "cell_type": "code",
   "source": [
    "using GXBeam, LinearAlgebra\n",
    "\n",
    "nelem = 16\n",
    "\n",
    "# create points\n",
    "L = 1\n",
    "x = range(0, L, length=nelem+1)\n",
    "y = zero(x)\n",
    "z = zero(x)\n",
    "points = [[x[i],y[i],z[i]] for i = 1:length(x)]\n",
    "\n",
    "# index of endpoints for each beam element\n",
    "start = 1:nelem\n",
    "stop = 2:nelem+1\n",
    "\n",
    "# create compliance matrix for each beam element\n",
    "EI = 1e7\n",
    "compliance = fill(Diagonal([0, 0, 0, 0, 1/EI, 0]), nelem)\n",
    "\n",
    "# create assembly\n",
    "assembly = Assembly(points, start, stop, compliance=compliance)\n",
    "\n",
    "# set prescribed conditions\n",
    "prescribed_conditions = Dict(\n",
    "    # simply supported left endpoint\n",
    "    1 => PrescribedConditions(uz=0),\n",
    "    # clamped right endpoint\n",
    "    nelem+1 => PrescribedConditions(ux=0, uy=0, uz=0, theta_x=0, theta_y=0,\n",
    "        theta_z=0)\n",
    ")\n",
    "\n",
    "# create distributed load\n",
    "qmax = 1000\n",
    "distributed_loads = Dict()\n",
    "for i = 1:nelem\n",
    "    distributed_loads[i] = DistributedLoads(assembly, i; s1=x[i],\n",
    "        s2=x[i+1], fz = (s) -> qmax*s)\n",
    "end\n",
    "\n",
    "# perform a static analysis\n",
    "system, converged = static_analysis(assembly;\n",
    "    prescribed_conditions = prescribed_conditions,\n",
    "    distributed_loads = distributed_loads,\n",
    "    linear = true)\n",
    "\n",
    "# post-process the results\n",
    "state = AssemblyState(system, assembly;\n",
    "    prescribed_conditions = prescribed_conditions)\n",
    "nothing #hide"
   ],
   "metadata": {},
   "execution_count": 1
  },
  {
   "cell_type": "markdown",
   "source": [
    "An analytical solution to this over-determined problem can be found using the method of\n",
    "superposition using the analytical solutions to a cantilever with a linearly distributed\n",
    "load and a cantilever with an end load."
   ],
   "metadata": {}
  },
  {
   "outputs": [],
   "cell_type": "code",
   "source": [
    "# construct analytical solution\n",
    "x_a = range(0.0, L, length=1000)\n",
    "w_a = @. qmax*(1-x_a)^2/(120*EI)*(4 - 8*(1-x_a) + 5*(1-x_a)^2 - (1-x_a)^3)\n",
    "slope_a = @. -qmax*(1-x_a)/(120*EI)*(8 - 24*(1-x_a) + 20*(1-x_a)^2 - 5*(1-x_a)^3)\n",
    "M_a = @. qmax/120*(8 - 48*(1-x_a) + 60*(1-x_a)^2 - 20*(1-x_a)^3)\n",
    "\n",
    "theta_a = -atan.(slope_a)\n",
    "\n",
    "# adjust coordinate system of analytical solution\n",
    "M_a = -M_a\n",
    "nothing #hide"
   ],
   "metadata": {},
   "execution_count": 2
  },
  {
   "cell_type": "markdown",
   "source": [
    "Plotting the results reveals that the analytical and computational solutions show\n",
    "excellent agreement."
   ],
   "metadata": {}
  },
  {
   "outputs": [],
   "cell_type": "code",
   "source": [
    "using Plots\n",
    "pyplot()\n",
    "nothing #hide"
   ],
   "metadata": {},
   "execution_count": 3
  },
  {
   "outputs": [],
   "cell_type": "code",
   "source": [
    "plot(\n",
    "    xlim = (0.0, 1.0),\n",
    "    xticks = 0.0:0.2:1.0,\n",
    "    xlabel = \"x (m)\",\n",
    "    ylabel = \"Linear Deflection (m)\",\n",
    "    grid = false,\n",
    "    overwrite_figure=false\n",
    "    )\n",
    "\n",
    "x = [assembly.points[ipoint][1] + state.points[ipoint].u[1] for ipoint =\n",
    "    1:length(assembly.points)]\n",
    "deflection = [state.points[ipoint].u[3] for ipoint = 1:length(assembly.points)]\n",
    "plot!(x_a, w_a, label=\"Analytical\")\n",
    "scatter!(x, deflection, label=\"GXBeam\")\n",
    "plot!(show=true)\n",
    "nothing #hide"
   ],
   "metadata": {},
   "execution_count": 4
  },
  {
   "outputs": [],
   "cell_type": "code",
   "source": [
    "plot(\n",
    "    xlim = (0.0, 1.0),\n",
    "    xticks = 0.0:0.2:1.0,\n",
    "    xlabel = \"x (m)\",\n",
    "    ylabel = \"Angular Deflection (rad)\",\n",
    "    grid = false,\n",
    "    overwrite_figure=false\n",
    "    )\n",
    "\n",
    "x = [assembly.points[ipoint][1] + state.points[ipoint].u[1]\n",
    "    for ipoint = 1:length(assembly.points)]\n",
    "theta = [4*atan.(state.points[ipoint].theta[2]/4)\n",
    "    for ipoint = 1:length(assembly.points)]\n",
    "plot!(x_a, theta_a, label=\"Analytical\")\n",
    "scatter!(x, theta, label=\"GXBeam\")\n",
    "plot!(show=true)\n",
    "nothing #hide"
   ],
   "metadata": {},
   "execution_count": 5
  },
  {
   "outputs": [],
   "cell_type": "code",
   "source": [
    "plot(\n",
    "    xlim = (0.0, 1.0),\n",
    "    xticks = 0.0:0.2:1.0,\n",
    "    xlabel = \"x (m)\",\n",
    "    ylabel = \"Bending Moment (\\$Nm\\$)\",\n",
    "    grid = false,\n",
    "    overwrite_figure=false\n",
    "    )\n",
    "\n",
    "x = [assembly.elements[ielem].x[1] + state.elements[ielem].u[1] for ielem =\n",
    "    1:length(assembly.elements)]\n",
    "M = [state.elements[ielem].M[2] for ielem = 1:length(assembly.elements)]\n",
    "plot!(x_a, M_a, label=\"Analytical\")\n",
    "scatter!(x, M, label=\"GXBeam\")\n",
    "plot!(show=true)\n",
    "nothing #hide"
   ],
   "metadata": {},
   "execution_count": 6
  },
  {
   "cell_type": "markdown",
   "source": [
    "Note that we could have easily performed a nonlinear analysis for this problem by\n",
    "setting `linear=false`."
   ],
   "metadata": {}
  },
  {
   "cell_type": "markdown",
   "source": [
    "---\n",
    "\n",
    "*This notebook was generated using [Literate.jl](https://github.com/fredrikekre/Literate.jl).*"
   ],
   "metadata": {}
  }
 ],
 "nbformat_minor": 3,
 "metadata": {
  "language_info": {
   "file_extension": ".jl",
   "mimetype": "application/julia",
   "name": "julia",
   "version": "1.6.5"
  },
  "kernelspec": {
   "name": "julia-1.6",
   "display_name": "Julia 1.6.5",
   "language": "julia"
  }
 },
 "nbformat": 4
}
