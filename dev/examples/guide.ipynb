{
 "cells": [
  {
   "cell_type": "markdown",
   "source": [
    "# Getting Started\n",
    "\n",
    "\n",
    "\n",
    "In this guide we introduce you to the basic functionality of this package in a step\n",
    "by step manner.  This is a good starting point for learning about how to use this package."
   ],
   "metadata": {}
  },
  {
   "cell_type": "markdown",
   "source": [
    "If you haven't yet, now would be a good time to install GXBeam."
   ],
   "metadata": {}
  },
  {
   "outputs": [
    {
     "name": "stdout",
     "output_type": "stream",
     "text": [
      "    Updating registry at `~/.julia/registries/General`\n",
      "   Resolving package versions...\n",
      "   Installed GXBeam ─ v0.3.1\n",
      "    Updating `~/work/GXBeam.jl/GXBeam.jl/docs/Project.toml`\n",
      "  [974624c9] ~ GXBeam v0.3.2 `~/work/GXBeam.jl/GXBeam.jl` ⇒ v0.3.1\n",
      "    Updating `~/work/GXBeam.jl/GXBeam.jl/docs/Manifest.toml`\n",
      "  [974624c9] ~ GXBeam v0.3.2 `~/work/GXBeam.jl/GXBeam.jl` ⇒ v0.3.1\n",
      "Precompiling project...\n",
      "\u001b[33m  ✓ \u001b[39mGXBeam\n",
      "  1 dependency successfully precompiled in 12 seconds (243 already precompiled)\n",
      "  \u001b[33m1\u001b[39m dependency precompiled but a different version is currently loaded. Restart julia to access the new version\n"
     ]
    }
   ],
   "cell_type": "code",
   "source": [
    "import Pkg\n",
    "Pkg.add(\"GXBeam\")\n",
    "nothing #hide"
   ],
   "metadata": {},
   "execution_count": 1
  },
  {
   "cell_type": "markdown",
   "source": [
    "Now, that the package is installed we need to load it so that we can use it.  It's also\n",
    "often helpful to load the LinearAlgebra package."
   ],
   "metadata": {}
  },
  {
   "outputs": [],
   "cell_type": "code",
   "source": [
    "using GXBeam, LinearAlgebra\n",
    "nothing #hide"
   ],
   "metadata": {},
   "execution_count": 2
  },
  {
   "cell_type": "markdown",
   "source": [
    "The geometry we will be working with is a rotating beam with a swept tip as pictured.\n",
    "\n",
    "![](../assets/rotating-drawing.svg)\n",
    "\n",
    "This geometry has a fixed boundary condition on the left side of the beam and rotates\n",
    "around a point 2.5 inches to the left of the beam.  We will investigating the steady\n",
    "behavior of this system for a variety of RPM settings at a constant sweep of 45°.\n",
    "\n",
    "## Creating an Assembly\n",
    "\n",
    "The first step for any analysis is to create an object of type `Assembly`.  This\n",
    "object stores the properties of each of the points and beam elements in our model.\n",
    "\n",
    "To create an object of type Assembly we need the following:\n",
    " - An array of points\n",
    " - The starting point for each beam element\n",
    " - The ending point for each beam element\n",
    " - The frame of reference for each beam element, specified as a 3x3 direction cosine matrix\n",
    " - The stiffness or compliance matrix for each beam element\n",
    " - The mass or inverse mass matrix for each beam element, for dynamic simulations\n",
    " - The element length and midpoint, if the element is curved\n",
    "\n",
    "We will first focus on the geometry.  We start by defining the straight section of the\n",
    "beam.  This section extends from (2.5, 0, 0) to (34, 0, 0).  The local coordinate frame\n",
    "for this section of the beam is the same as the global coordinate frame.  We will\n",
    "discretize this section into 10 elements.\n",
    "\n",
    "To aid with constructing the geometry we can use the `discretize_beam` function.\n",
    "We pass in the length, starting point, and number of elements of the beam section to the\n",
    "`discretize_beam` function.  The function returns the lengths, endpoints,\n",
    "midpoints, and reference frame of each beam element."
   ],
   "metadata": {}
  },
  {
   "outputs": [],
   "cell_type": "code",
   "source": [
    "# straight section of the beam\n",
    "L_b1 = 31.5 # length of straight section of the beam in inches\n",
    "r_b1 = [2.5, 0, 0] # starting point of straight section of the beam\n",
    "nelem_b1 = 10 # number of elements in the straight section of the beam\n",
    "lengths_b1, xp_b1, xm_b1, Cab_b1 = discretize_beam(L_b1, r_b1, nelem_b1)\n",
    "nothing #hide"
   ],
   "metadata": {},
   "execution_count": 3
  },
  {
   "cell_type": "markdown",
   "source": [
    "The length of each beam element is equal since we used the number of elements to define\n",
    "the discretization.  Alternatively we can manually specify the discretization of the\n",
    "section. The following is equivalent."
   ],
   "metadata": {}
  },
  {
   "outputs": [],
   "cell_type": "code",
   "source": [
    "# normalized element endpoints in the straight section of the beam\n",
    "disc_b1 = range(0, 1, length=nelem_b1+1)\n",
    "\n",
    "# discretize straight beam section\n",
    "lengths_b1, xp_b1, xm_b1, Cab_b1 = discretize_beam(L_b1, r_b1, disc_b1)\n",
    "\n",
    "nothing #hide"
   ],
   "metadata": {},
   "execution_count": 4
  },
  {
   "cell_type": "markdown",
   "source": [
    "We now create the geometry for the swept portion of the wing.  To do so we use the same\n",
    "`discretize_beam` function, but use the additional keyword argument `frame` in\n",
    "order to define the undeformed local beam frame.  The direction cosine matrix which\n",
    "describes the local beam frame is\n",
    "$$\n",
    "\\begin{bmatrix}\n",
    "\\hat{e_{1,x}} & \\hat{e_{2,x}} & \\hat{e_{3,x}} \\\\\n",
    "\\hat{e_{1,y}} & \\hat{e_{2,y}} & \\hat{e_{3,y}} \\\\\n",
    "\\hat{e_{1,z}} & \\hat{e_{2,z}} & \\hat{e_{3,z}} \\\\\n",
    "\\end{bmatrix}\n",
    "$$\n",
    "where $\\hat{e_1}$, $\\hat{e_2}$, and $\\hat{e_3}$ are unit vectors which define\n",
    "the axes of the local frame of reference in the body frame of reference.  This matrix\n",
    "may be interpreted as a transformation matrix from the undeformed local beam frame to\n",
    "the body frame."
   ],
   "metadata": {}
  },
  {
   "outputs": [],
   "cell_type": "code",
   "source": [
    "sweep = 45 * pi/180\n",
    "\n",
    "# swept section of the beam\n",
    "L_b2 = 6 # length of swept section of the beam\n",
    "r_b2 = [34, 0, 0] # starting point of swept section of the beam\n",
    "nelem_b2 = 5 # number of elements in swept section of the beam\n",
    "e1 = [cos(sweep), -sin(sweep), 0] # axis 1\n",
    "e2 = [sin(sweep), cos(sweep), 0] # axis 2\n",
    "e3 = [0, 0, 1] # axis 3\n",
    "frame_b2 = hcat(e1, e2, e3) # transformation matrix from local to body frame\n",
    "lengths_b2, xp_b2, xm_b2, Cab_b2 = discretize_beam(L_b2, r_b2, nelem_b2;\n",
    "    frame = frame_b2)\n",
    "nothing #hide"
   ],
   "metadata": {},
   "execution_count": 5
  },
  {
   "cell_type": "markdown",
   "source": [
    "We will now manually combine the results of our two calls to `discretize_beam`.  Since\n",
    "the last endpoint from the straight section is the same as the first endpoint of the\n",
    "swept section we drop one of the endpoints when combining our results."
   ],
   "metadata": {}
  },
  {
   "outputs": [],
   "cell_type": "code",
   "source": [
    "# combine elements and points into one array\n",
    "nelem = nelem_b1 + nelem_b2 # total number of elements\n",
    "points = vcat(xp_b1, xp_b2[2:end]) # all points in our assembly\n",
    "start = 1:nelem_b1 + nelem_b2 # starting point of each beam element in our assembly\n",
    "stop = 2:nelem_b1 + nelem_b2 + 1 # ending point of each beam element in our assembly\n",
    "lengths = vcat(lengths_b1, lengths_b2) # length of each beam element in our assembly\n",
    "midpoints = vcat(xm_b1, xm_b2) # midpoint of each beam element in our assembly\n",
    "Cab = vcat(Cab_b1, Cab_b2) # transformation matrix from local to body frame\n",
    "                           # for each beam element in our assembly\n",
    "nothing #hide"
   ],
   "metadata": {},
   "execution_count": 6
  },
  {
   "cell_type": "markdown",
   "source": [
    "Next we need to define the stiffness (or compliance) and mass matrices for each\n",
    "beam element.\n",
    "\n",
    "The compliance matrix is defined by the following equation\n",
    "$$\n",
    "\\begin{bmatrix}\n",
    "\\gamma_{11} \\\\\n",
    "2\\gamma_{12} \\\\\n",
    "2\\gamma_{13} \\\\\n",
    "\\kappa_{1} \\\\\n",
    "\\kappa_{2} \\\\\n",
    "\\kappa_{3}\n",
    "\\end{bmatrix}\n",
    "=\n",
    "\\begin{bmatrix}\n",
    "   S_{11} & S_{12} & S_{13} & S_{14} & S_{15} & S_{16} \\\\\n",
    "   S_{12} & S_{22} & S_{23} & S_{24} & S_{25} & S_{26} \\\\\n",
    "   S_{13} & S_{23} & S_{33} & S_{34} & S_{35} & S_{36} \\\\\n",
    "   S_{14} & S_{24} & S_{43} & S_{44} & S_{45} & S_{46} \\\\\n",
    "   S_{15} & S_{25} & S_{35} & S_{45} & S_{55} & S_{56} \\\\\n",
    "   S_{16} & S_{26} & S_{36} & S_{46} & S_{56} & S_{66}\n",
    "\\end{bmatrix}\n",
    "\\begin{bmatrix}\n",
    "   F_{1} \\\\\n",
    "   F_{2} \\\\\n",
    "   F_{3} \\\\\n",
    "   M_{1} \\\\\n",
    "   M_{2} \\\\\n",
    "   M_{3}\n",
    "\\end{bmatrix}\n",
    "$$\n",
    "with the variables defined as follows:\n",
    " - $\\gamma_{11}$: beam axial strain\n",
    " - $2\\gamma_{12}$ engineering transverse strain along axis 2\n",
    " - $2\\gamma_{13}$ engineering transverse strain along axis 3\n",
    " - $\\kappa_1$: twist\n",
    " - $\\kappa_2$: curvature about axis 2\n",
    " - $\\kappa_3$: curvature about axis 3\n",
    " - $F_i$: resultant force about axis i\n",
    " - $M_i$: resultant moment about axis i\n",
    "\n",
    "The mass matrix is defined using the following equation\n",
    "$$\n",
    "\\begin{bmatrix}\n",
    "   P_{1} \\\\\n",
    "   P_{2} \\\\\n",
    "   P_{3} \\\\\n",
    "   H_{1} \\\\\n",
    "   H_{2} \\\\\n",
    "   H_{3}\n",
    "\\end{bmatrix}\n",
    "=\n",
    "\\begin{bmatrix}\n",
    "   \\mu & 0 & 0 & 0 & \\mu x_{m3} & -\\mu x_{m2} \\\\\n",
    "   0 & \\mu & 0 & -\\mu x_{m3} & 0 & 0 \\\\\n",
    "   0 & 0 & \\mu & \\mu x_{m2} & 0 & 0 \\\\\n",
    "   0 & -\\mu x_{m3} & \\mu x_{m2} & i_{22} + i_{33} & 0 & 0 \\\\\n",
    "   \\mu x_{m3}  & 0 & 0 & 0 & i_{22} & -i_{23} \\\\\n",
    "   -\\mu x_{m2} & 0 & 0 & 0 & -i_{23} & i_{33}\n",
    "\\end{bmatrix}\n",
    "\\begin{bmatrix}\n",
    "   V_{1} \\\\\n",
    "   V_{2} \\\\\n",
    "   V_{3} \\\\\n",
    "   \\Omega_{1} \\\\\n",
    "   \\Omega_{2} \\\\\n",
    "   \\Omega_{3}\n",
    "\\end{bmatrix}\n",
    "$$\n",
    "with the variables defined as follows:\n",
    " - $P$: linear momentum per unit length\n",
    " - $H$: angular momentum per unit length\n",
    " - $V$: linear velocity\n",
    " - $\\Omega$: angular velocity\n",
    " - $\\mu$: mass per unit length\n",
    " - $(x_{m2}, x_{m3})$: mass center location\n",
    " - $i_{22}$: mass moment of inertia about axis 2\n",
    " - $i_{33}$: mass moment of inertia about axis 3\n",
    " - $i_{23}$: product of inertia\n",
    "\n",
    "We assume that our beam has a constant cross section with the following properties:\n",
    " - 1 inch width\n",
    " - 0.063 inch height\n",
    " - 1.06 x 10^7 lb/in^2 elastic modulus\n",
    " - 0.325 Poisson's ratio\n",
    " - 2.51 x 10^-4 lb sec^2/in^4 density\n",
    "\n",
    "We also assume the following shear and torsion correction factors:\n",
    " - $k_y = 1.2000001839588001$\n",
    " - $k_z = 14.625127919304001$\n",
    " - $k_t = 65.85255016982444$"
   ],
   "metadata": {}
  },
  {
   "outputs": [],
   "cell_type": "code",
   "source": [
    "# cross section\n",
    "w = 1 # inch\n",
    "h = 0.063 # inch\n",
    "\n",
    "# material properties\n",
    "E = 1.06e7 # lb/in^2\n",
    "ν = 0.325\n",
    "ρ = 2.51e-4 # lb sec^2/in^4\n",
    "\n",
    "# shear and torsion correction factors\n",
    "ky = 1.2000001839588001\n",
    "kz = 14.625127919304001\n",
    "kt = 65.85255016982444\n",
    "\n",
    "A = h*w\n",
    "Iyy = w*h^3/12\n",
    "Izz = w^3*h/12\n",
    "J = Iyy + Izz\n",
    "\n",
    "# apply corrections\n",
    "Ay = A/ky\n",
    "Az = A/kz\n",
    "Jx = J/kt\n",
    "\n",
    "G = E/(2*(1+ν))\n",
    "\n",
    "compliance = fill(Diagonal([1/(E*A), 1/(G*Ay), 1/(G*Az), 1/(G*Jx), 1/(E*Iyy),\n",
    "    1/(E*Izz)]), nelem)\n",
    "\n",
    "mass = fill(Diagonal([ρ*A, ρ*A, ρ*A, ρ*J, ρ*Iyy, ρ*Izz]), nelem)\n",
    "nothing #hide"
   ],
   "metadata": {},
   "execution_count": 7
  },
  {
   "cell_type": "markdown",
   "source": [
    "Our case is simple enough that we can analytically calculate most values for the\n",
    "compliance and mass matrices, but this is not generally the case.  For more complex\n",
    "geometries/structures it may be necessary to use a cross-sectional property solver such\n",
    "as\n",
    "[VABS](https://www.altair.com/vabs/#:~:text=VABS%20by%20AnalySwift%2C%20is%20a%20general-purpose%20cross-sectional%20analysis,3D%20stresses%20and%20strains%20of%20slender%20composite%20structures.),\n",
    "[BECAS](https://becas.dtu.dk/),\n",
    "[NuMAD/BPE](https://energy.sandia.gov/programs/renewable-energy/wind-power/rotor-innovation/numerical-manufacturing-and-design-tool-numad/),\n",
    "or [PreComp](https://www.nrel.gov/wind/nwtc/precomp.html).\n",
    "\n",
    "Also note that any row/column of the stiffness and/or compliance matrix which is zero\n",
    "will be interpreted as infinitely stiff in that degree of freedom.  This corresponds to a\n",
    "row/column of zeros in the compliance matrix.\n",
    "\n",
    "We are now ready to put together our assembly."
   ],
   "metadata": {}
  },
  {
   "outputs": [],
   "cell_type": "code",
   "source": [
    "assembly = Assembly(points, start, stop;\n",
    "   compliance = compliance,\n",
    "   mass = mass,\n",
    "   frames = Cab,\n",
    "   lengths = lengths,\n",
    "   midpoints = midpoints)\n",
    "nothing #hide"
   ],
   "metadata": {},
   "execution_count": 8
  },
  {
   "cell_type": "markdown",
   "source": [
    "At this point this is probably a good time to check that the geometry of our assembly\n",
    "is correct.  We can do this by visualizing the geometry in ParaView.  We can use the\n",
    "`write_vtk` function to do this.  Note that in order to visualize the generated\n",
    "file yourself you will need to install ParaView separately."
   ],
   "metadata": {}
  },
  {
   "outputs": [],
   "cell_type": "code",
   "source": [
    "write_vtk(\"rotating-geometry\", assembly)"
   ],
   "metadata": {},
   "execution_count": 9
  },
  {
   "cell_type": "markdown",
   "source": [
    "![](../assets/rotating-geometry.png)"
   ],
   "metadata": {}
  },
  {
   "cell_type": "markdown",
   "source": [
    "## Point Masses\n",
    "\n",
    "We won't be applying point masses to our model, but we will demonstrate how to do so.\n",
    "\n",
    "Point masses are defined by using the constructor `PointMass`.  Point masses\n",
    "may be attached to the center of any beam element.  By using zero length beam elements,\n",
    "point masses may also be effectively attached to points.  One instance of\n",
    "`PointMass` must be created for every beam element to which point masses are\n",
    "attached.  These instances are then stored in a dictionary with keys corresponding to\n",
    "each beam element index.\n",
    "\n",
    "Each `PointMass` contains a 6x6 mass matrix which describes the relationship\n",
    "between the linear/angular velocity of the beam element and the linear/angular momentum\n",
    "of the point mass.  For a single point mass, this matrix is defined as\n",
    "$$\n",
    "\\begin{bmatrix}\n",
    "   P_{x} \\\\\n",
    "   P_{y} \\\\\n",
    "   P_{z} \\\\\n",
    "   H_{x} \\\\\n",
    "   H_{y} \\\\\n",
    "   H_{z}\n",
    "\\end{bmatrix}\n",
    "=\n",
    "\\begin{bmatrix}\n",
    "   m & 0 & 0 & 0 & m p_{z} & -m p_{y} \\\\\n",
    "   0 & m & 0 & -m p_{z} & 0 & m p_{x} \\\\\n",
    "   0 & 0 & m & m p_{y} & -m p_{x} & 0 \\\\\n",
    "   0 & -m p_{z} & m p_{y} & I_{xx}^* & -I_{xy}^* & -I_{xz}^* \\\\\n",
    "   m p_{z}  & 0 & -m p_{x} & -I_{xy}^* & I_{yy}^* & -I_{yz}^* \\\\\n",
    "   -m p_{y} & m p_{x} & 0 & -I_{xz}^* & -I_{yz}^* & I_{zz}^*\n",
    "\\end{bmatrix}\n",
    "\\begin{bmatrix}\n",
    "   V_{x} \\\\\n",
    "   V_{y} \\\\\n",
    "   V_{z} \\\\\n",
    "   \\Omega_{x} \\\\\n",
    "   \\Omega_{y} \\\\\n",
    "   \\Omega_{z}\n",
    "\\end{bmatrix}\n",
    "$$\n",
    "where $m$ is the mass of the point mass, $p$ is the position of the point mass\n",
    "relative to the center of the beam element to which it is attached, and $I^*$ is the\n",
    "inertia matrix corresponding to the point mass, defined relative to the center of the\n",
    "beam element.  Multiple point masses may be modeled by adding their respective mass\n",
    "matrices together."
   ],
   "metadata": {}
  },
  {
   "cell_type": "markdown",
   "source": [
    "Objects of type `PointMass` may be constructed by providing the fully populated\n",
    "mass matrix as described above or by providing the mass, offset, and inertia matrix of\n",
    "the point mass, with the later being the inertia matrix of the point mass about its\n",
    "center of gravity rather than the beam center.  To demonstrate, the following code places\n",
    "a 10 kg tip mass at the end of the beam, which is rigidly attached to the center of the\n",
    "final beam element"
   ],
   "metadata": {}
  },
  {
   "outputs": [],
   "cell_type": "code",
   "source": [
    "m = 10 # mass\n",
    "p = xp_b2[end] - xm_b2[end] # relative location\n",
    "J = zeros(3,3) # inertia matrix (about the point mass center of gravity)\n",
    "\n",
    "# create dictionary of point masses\n",
    "point_masses = Dict(\n",
    "    nelem => PointMass(m, p, J)\n",
    "    )\n",
    "\n",
    "nothing #hide"
   ],
   "metadata": {},
   "execution_count": 10
  },
  {
   "cell_type": "markdown",
   "source": [
    "## Defining Distributed Loads\n",
    "\n",
    "We won't be applying distributed loads to our model, but we will demonstrate how to do so.\n",
    "\n",
    "Distributed loads are defined by using the constructor `DistributedLoads`.  One\n",
    "instance of `DistributedLoads` must be created for every beam element on which\n",
    "the distributed load is applied.  These instances of `DistributedLoads` are then\n",
    "stored in a dictionary with keys corresponding to each beam element index.\n",
    "\n",
    "To define a `DistributedLoads` the assembly, element number, and distributed\n",
    "load functions must be passed to `DistributedLoads`.  Possible distributed\n",
    "load functions are:\n",
    "- `fx`: Distributed x-direction force\n",
    "- `fy`: Distributed y-direction force\n",
    "- `fz`: Distributed z-direction force\n",
    "- `mx`: Distributed x-direction moment\n",
    "- `my`: Distributed y-direction moment\n",
    "- `mz`: Distributed z-direction moment\n",
    "- `fx_follower`: Distributed x-direction follower force\n",
    "- `fy_follower`: Distributed y-direction follower force\n",
    "- `fz_follower`: Distributed z-direction follower force\n",
    "- `mx_follower`: Distributed x-direction follower moment\n",
    "- `my_follower`: Distributed y-direction follower moment\n",
    "- `mz_follower`: Distributed z-direction follower moment\n",
    "\n",
    "Each of these forces/moments are specified as functions of the arbitrary coordinate `s`\n",
    "($f(s)$).  The s-coordinate at the start and end of the beam element can be specified\n",
    "using the keyword arguments `s1` and `s2`."
   ],
   "metadata": {}
  },
  {
   "cell_type": "markdown",
   "source": [
    "For example, the following code applies a uniform 10 pound distributed load in the\n",
    "z-direction on all beam elements:"
   ],
   "metadata": {}
  },
  {
   "outputs": [],
   "cell_type": "code",
   "source": [
    "distributed_loads = Dict()\n",
    "for ielem in 1:nelem\n",
    "    distributed_loads[ielem] = DistributedLoads(assembly, ielem; fz = (s) -> 10)\n",
    "end\n",
    "nothing #hide"
   ],
   "metadata": {},
   "execution_count": 11
  },
  {
   "cell_type": "markdown",
   "source": [
    "To instead use a follower force (a force that rotates with the structure) we would use\n",
    "the following code:"
   ],
   "metadata": {}
  },
  {
   "outputs": [],
   "cell_type": "code",
   "source": [
    "distributed_loads = Dict()\n",
    "for ielem in 1:nelem\n",
    "    distributed_loads[ielem] = DistributedLoads(assembly, ielem;\n",
    "        fz_follower = (s) -> 10)\n",
    "end\n",
    "nothing #hide"
   ],
   "metadata": {},
   "execution_count": 12
  },
  {
   "cell_type": "markdown",
   "source": [
    "The units are arbitrary, but must be consistent with the units used when constructing\n",
    "the beam assembly.  Also note that both non-follower and follower forces may exist\n",
    "simultaneously.\n",
    "\n",
    "It is worth noting that the distributed loads are integrated over each element when they\n",
    "are created using 4-point Gauss-Legendre quadrature.  If more control over the\n",
    "integration is desired one may specify a custom integration method as described in the\n",
    "documentation for `DistributedLoads`."
   ],
   "metadata": {}
  },
  {
   "cell_type": "markdown",
   "source": [
    "## Defining Prescribed Conditions\n",
    "\n",
    "Whereas distributed loads are applied to beam elements, prescribed conditions are forces\n",
    "and/or displacement boundary conditions applied to points. One instance of\n",
    "`PrescribedConditions` must be created for every point on which prescribed conditions\n",
    "are applied.  These instances of `PrescribedConditions` are then stored in a dictionary\n",
    "with keys corresponding to each point index.\n",
    "\n",
    "Possible prescribed conditions include:\n",
    "- `ux`: Prescribed x-displacement\n",
    "- `uy`: Prescribed y-displacement\n",
    "- `uz`: Prescribed z-displacement\n",
    "- `theta_x`: Prescribed first Wiener-Milenkovic parameter\n",
    "- `theta_y`: Prescribed second Wiener-Milenkovic parameter\n",
    "- `theta_z`: Prescribed third Wiener-Milenkovic parameter\n",
    "- `Fx`: Prescribed x-direction force\n",
    "- `Fy`: Prescribed y-direction force\n",
    "- `Fz`: Prescribed z-direction force\n",
    "- `Mx`: Prescribed x-axis moment\n",
    "- `My`: Prescribed y-axis moment\n",
    "- `Mz`: Prescribed z-axis moment\n",
    "- `Fx_follower`: Prescribed x-direction follower force\n",
    "- `Fy_follower`: Prescribed y-direction follower force\n",
    "- `Fz_follower`: Prescribed z-direction follower force\n",
    "- `Mx_follower`: Prescribed x-direction follower moment\n",
    "- `My_follower`: Prescribed y-direction follower moment\n",
    "- `Mz_follower`: Prescribed z-direction follower moment\n",
    "\n",
    "One can apply both force and displacement boundary conditions to the same point, but one cannot specify a force and displacement condition at the same point corresponding to the same degree of freedom.\n",
    "\n",
    "Here we create a fixed boundary condition on the left side of the beam."
   ],
   "metadata": {}
  },
  {
   "outputs": [],
   "cell_type": "code",
   "source": [
    "# create dictionary of prescribed conditions\n",
    "prescribed_conditions = Dict(\n",
    "    # root section is fixed\n",
    "    1 => PrescribedConditions(ux=0, uy=0, uz=0, theta_x=0, theta_y=0, theta_z=0)\n",
    "    )\n",
    "\n",
    "nothing #hide"
   ],
   "metadata": {},
   "execution_count": 13
  },
  {
   "cell_type": "markdown",
   "source": [
    "Note that most problems should have at least one point where deflections and/or\n",
    "rotations are constrained in order to be well-posed."
   ],
   "metadata": {}
  },
  {
   "cell_type": "markdown",
   "source": [
    "## Pre-Allocating Memory for an Analysis\n",
    "\n",
    "At this point we have everything we need to perform an analysis.  However, since we will\n",
    "be performing multiple analyses using the same assembly we can save computational time\n",
    "be pre-allocating memory for the analysis.  This can be done by constructing an object\n",
    "of type `System`.  The constructor for this object requires that we provide the\n",
    "assembly and a flag indicating whether the system is static."
   ],
   "metadata": {}
  },
  {
   "outputs": [],
   "cell_type": "code",
   "source": [
    "system = System(assembly, false)\n",
    "nothing #hide"
   ],
   "metadata": {},
   "execution_count": 14
  },
  {
   "cell_type": "markdown",
   "source": [
    "## Eliminating Unnecessary State Variables\n",
    "\n",
    "The time needed to perform our analysis can be further reduced by removing unnecessary\n",
    "state variables and equations from the system of equations.  This optimization may be\n",
    "enabled by providing the identities of the points with prescribed conditions using the\n",
    "`prescribed_points` keyword."
   ],
   "metadata": {}
  },
  {
   "outputs": [],
   "cell_type": "code",
   "source": [
    "system = System(assembly, false; prescribed_points=[1, nelem+1])\n",
    "nothing #hide"
   ],
   "metadata": {},
   "execution_count": 15
  },
  {
   "cell_type": "markdown",
   "source": [
    "## Performing a Steady State Analysis\n",
    "\n",
    "We're now ready to perform our steady state analyses.  This can be done by calling\n",
    "`steady_state_analysis` with the pre-allocated system storage, assembly,\n",
    "angular velocity, and the prescribed point conditions.  We can also perform a\n",
    "linear analysis instead of a nonlinear analysis by using the `linear` keyword argument.\n",
    "\n",
    "After each analysis we'll also construct an object of type `AssemblyState` so\n",
    "that we can save the results of each analysis prior to re-using the pre-allocated\n",
    "memory for the next analysis."
   ],
   "metadata": {}
  },
  {
   "outputs": [],
   "cell_type": "code",
   "source": [
    "rpm = 0:25:750\n",
    "\n",
    "linear_states = Vector{AssemblyState{Float64}}(undef, length(rpm))\n",
    "for i = 1:length(rpm)\n",
    "\n",
    "    # global frame rotation\n",
    "    w0 = [0, 0, rpm[i]*(2*pi)/60]\n",
    "\n",
    "    # perform linear steady state analysis\n",
    "    _, converged = steady_state_analysis!(system, assembly,\n",
    "        angular_velocity = w0,\n",
    "        prescribed_conditions = prescribed_conditions,\n",
    "        linear = true)\n",
    "\n",
    "    linear_states[i] = AssemblyState(system, assembly;\n",
    "        prescribed_conditions=prescribed_conditions)\n",
    "\n",
    "end\n",
    "\n",
    "reset_state!(system)\n",
    "\n",
    "nonlinear_states = Vector{AssemblyState{Float64}}(undef, length(rpm))\n",
    "for i = 1:length(rpm)\n",
    "\n",
    "   # global frame rotation\n",
    "   w0 = [0, 0, rpm[i]*(2*pi)/60]\n",
    "\n",
    "    # perform nonlinear steady state analysis\n",
    "    _, converged = steady_state_analysis!(system, assembly,\n",
    "        angular_velocity = w0,\n",
    "        prescribed_conditions = prescribed_conditions)\n",
    "\n",
    "     nonlinear_states[i] = AssemblyState(system, assembly;\n",
    "         prescribed_conditions=prescribed_conditions)\n",
    "\n",
    "end\n",
    "\n",
    "nothing #hide"
   ],
   "metadata": {},
   "execution_count": 16
  },
  {
   "cell_type": "markdown",
   "source": [
    "## Post Processing Results\n",
    "\n",
    "We can access the fields in each instance of `AssemblyState` in order to plot\n",
    "various quantities of interest.  This object stores an array of objects of type\n",
    "`PointState` in the field `points` and an array of objects of type\n",
    "`ElementState` in the field `elements`.\n",
    "\n",
    "The fields of `PointState` are the following:\n",
    " - `u`: point linear displacement (in the global frame)\n",
    " - `theta`: point angular displacement (in the global frame)\n",
    " - `F`: externally applied forces on the point (in the global frame)\n",
    " - `M`: externally applied moments on the point (in the global frame)\n",
    "\n",
    "The fields of `ElementState` are the following:\n",
    " - `u`: element displacement (in the global frame )\n",
    " - `theta`: angular displacement (in the global frame)\n",
    " - `F`: resultant forces (in the deformed element coordinate frame)\n",
    " - `M`: resultant moments (in the deformed element coordinate frame)\n",
    " - `V`: linear velocity (in the deformed element coordinate frame)\n",
    " - `Omega`: angular velocity (in the deformed element coordinate frame)\n",
    "\n",
    "To demonstrate how these fields can be accessed we will now plot the root moment and\n",
    "tip deflections."
   ],
   "metadata": {}
  },
  {
   "outputs": [],
   "cell_type": "code",
   "source": [
    "using Plots\n",
    "pyplot()\n",
    "nothing #hide"
   ],
   "metadata": {},
   "execution_count": 17
  },
  {
   "outputs": [],
   "cell_type": "code",
   "source": [
    "# root moment\n",
    "plot(\n",
    "    xlim = (0, 760),\n",
    "    xticks = 0:100:750,\n",
    "    xlabel = \"Angular Speed (RPM)\",\n",
    "    yticks = 0.0:2:12,\n",
    "    ylabel = \"\\$M_z\\$ at the root (lb-in)\",\n",
    "    grid = false,\n",
    "    overwrite_figure=false\n",
    "    )\n",
    "Mz_nl = [-nonlinear_states[i].points[1].M[3] for i = 1:length(rpm)]\n",
    "Mz_l = [-linear_states[i].points[1].M[3] for i = 1:length(rpm)]\n",
    "plot!(rpm, Mz_nl, label=\"Nonlinear\")\n",
    "plot!(rpm, Mz_l, label=\"Linear\")\n",
    "plot!(show=true)\n",
    "nothing #hide"
   ],
   "metadata": {},
   "execution_count": 18
  },
  {
   "outputs": [],
   "cell_type": "code",
   "source": [
    "# x tip deflection\n",
    "plot(\n",
    "    xlim = (0, 760),\n",
    "    xticks = 0:100:750,\n",
    "    xlabel = \"Angular Speed (RPM)\",\n",
    "    ylim = (-0.002, 0.074),\n",
    "    yticks = 0.0:0.01:0.07,\n",
    "    ylabel = \"\\$u_x\\$ at the tip (in)\",\n",
    "    grid = false,\n",
    "    overwrite_figure=false\n",
    "    )\n",
    "ux_nl = [nonlinear_states[i].points[end].u[1] for i = 1:length(rpm)]\n",
    "ux_l = [linear_states[i].points[end].u[1] for i = 1:length(rpm)]\n",
    "plot!(rpm, ux_nl, label=\"Nonlinear\")\n",
    "plot!(rpm, ux_l, label=\"Linear\")\n",
    "plot!(show=true)\n",
    "nothing #hide"
   ],
   "metadata": {},
   "execution_count": 19
  },
  {
   "outputs": [],
   "cell_type": "code",
   "source": [
    "# y tip deflection\n",
    "plot(\n",
    "    xlim = (0, 760),\n",
    "    xticks = 0:100:750,\n",
    "    xlabel = \"Angular Speed (RPM)\",\n",
    "    ylim = (-0.01, 0.27),\n",
    "    yticks = 0.0:0.05:0.25,\n",
    "    ylabel = \"\\$u_y\\$ at the tip (in)\",\n",
    "    grid = false,\n",
    "    overwrite_figure=false\n",
    "    )\n",
    "uy_nl = [nonlinear_states[i].points[end].u[2] for i = 1:length(rpm)]\n",
    "uy_l = [linear_states[i].points[end].u[2] for i = 1:length(rpm)]\n",
    "plot!(rpm, uy_nl, label=\"Nonlinear\")\n",
    "plot!(rpm, uy_l, label=\"Linear\")\n",
    "plot!(show=true)\n",
    "nothing #hide"
   ],
   "metadata": {},
   "execution_count": 20
  },
  {
   "outputs": [],
   "cell_type": "code",
   "source": [
    "# rotation of the tip\n",
    "plot(\n",
    "    xlim = (0, 760),\n",
    "    xticks = 0:100:750,\n",
    "    xlabel = \"Angular Speed (RPM)\",\n",
    "    ylabel = \"\\$θ_z\\$ at the tip\",\n",
    "    grid = false,\n",
    "    overwrite_figure=false\n",
    "    )\n",
    "theta_z_nl = [4*atan(nonlinear_states[i].points[end].theta[3]/4)\n",
    "    for i = 1:length(rpm)]\n",
    "theta_z_l = [4*atan(linear_states[i].points[end].theta[3]/4)\n",
    "    for i = 1:length(rpm)]\n",
    "\n",
    "plot!(rpm, theta_z_nl, label=\"Nonlinear\")\n",
    "plot!(rpm, theta_z_l, label=\"Linear\")\n",
    "plot!(show=true)\n",
    "nothing #hide"
   ],
   "metadata": {},
   "execution_count": 21
  },
  {
   "cell_type": "markdown",
   "source": [
    "## Other Capabilities\n",
    "\n",
    "For information on how to use the other capabilities of this package see the other\n",
    "examples and/or the Public API."
   ],
   "metadata": {}
  },
  {
   "cell_type": "markdown",
   "source": [
    "---\n",
    "\n",
    "*This notebook was generated using [Literate.jl](https://github.com/fredrikekre/Literate.jl).*"
   ],
   "metadata": {}
  }
 ],
 "nbformat_minor": 3,
 "metadata": {
  "language_info": {
   "file_extension": ".jl",
   "mimetype": "application/julia",
   "name": "julia",
   "version": "1.6.5"
  },
  "kernelspec": {
   "name": "julia-1.6",
   "display_name": "Julia 1.6.5",
   "language": "julia"
  }
 },
 "nbformat": 4
}
