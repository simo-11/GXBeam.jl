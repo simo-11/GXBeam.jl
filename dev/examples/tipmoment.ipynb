{
 "cells": [
  {
   "cell_type": "markdown",
   "source": [
    "# Cantilever with a Tip Moment\n",
    "\n",
    "This example shows how to predict the behavior of a cantilever beam that is subjected\n",
    "to a constant tip moment.  This is a common benchmark problem for the geometrically\n",
    "nonlinear analysis of beams.\n",
    "\n",
    "![](../assets/tipmoment-drawing.svg)"
   ],
   "metadata": {}
  },
  {
   "outputs": [],
   "cell_type": "code",
   "source": [
    "using GXBeam, LinearAlgebra\n",
    "\n",
    "L = 12 # inches\n",
    "h = w = 1 # inches\n",
    "E = 30e6 # lb/in^4 Young's Modulus\n",
    "\n",
    "A = h*w\n",
    "Iyy = w*h^3/12\n",
    "Izz = w^3*h/12\n",
    "\n",
    "# bending moment (applied at end)\n",
    "λ = [0.0, 0.4, 0.8, 1.2, 1.6, 1.8, 2.0]\n",
    "m = pi*E*Iyy/L\n",
    "M = λ*m\n",
    "\n",
    "# create points\n",
    "nelem = 16\n",
    "x = range(0, L, length=nelem+1)\n",
    "y = zero(x)\n",
    "z = zero(x)\n",
    "points = [[x[i],y[i],z[i]] for i = 1:length(x)]\n",
    "\n",
    "# index of endpoints of each beam element\n",
    "start = 1:nelem\n",
    "stop = 2:nelem+1\n",
    "\n",
    "# compliance matrix for each beam element\n",
    "compliance = fill(Diagonal([1/(E*A), 0, 0, 0, 1/(E*Iyy), 1/(E*Izz)]), nelem)\n",
    "\n",
    "# create assembly of interconnected nonlinear beams\n",
    "assembly = Assembly(points, start, stop, compliance=compliance)\n",
    "\n",
    "# pre-initialize system storage\n",
    "system = System(assembly, true)\n",
    "\n",
    "# run an analysis for each prescribed bending moment\n",
    "states = Vector{AssemblyState{Float64}}(undef, length(M))\n",
    "for i = 1:length(M)\n",
    "\n",
    "    # create dictionary of prescribed conditions\n",
    "    prescribed_conditions = Dict(\n",
    "        # fixed left side\n",
    "        1 => PrescribedConditions(ux=0, uy=0, uz=0, theta_x=0, theta_y=0, theta_z=0),\n",
    "        # moment on right side\n",
    "        nelem+1 => PrescribedConditions(Mz = M[i])\n",
    "    )\n",
    "\n",
    "    # perform a static analysis\n",
    "    static_analysis!(system, assembly;\n",
    "        prescribed_conditions = prescribed_conditions)\n",
    "\n",
    "    # post-process the results\n",
    "    states[i] = AssemblyState(system, assembly;\n",
    "        prescribed_conditions = prescribed_conditions)\n",
    "\n",
    "end\n",
    "\n",
    "nothing #hide"
   ],
   "metadata": {},
   "execution_count": 1
  },
  {
   "cell_type": "markdown",
   "source": [
    "This problem has a simple analytical solution, which we obtained from \"Study of the\n",
    "Geometric Stiffening Effect: Comparison of Different Formulations\" by Juana M. Mayo,\n",
    "Daniel Garcia-Vallejo, and Jaime Dominguez."
   ],
   "metadata": {}
  },
  {
   "outputs": [],
   "cell_type": "code",
   "source": [
    "# analytical solution (ρ = E*I/M)\n",
    "analytical(x, ρ) = ifelse(ρ == Inf, zeros(3), [ρ*sin(x/ρ)-x, ρ*(1-cos(x/ρ)), 0])\n",
    "nothing #hide"
   ],
   "metadata": {},
   "execution_count": 2
  },
  {
   "cell_type": "markdown",
   "source": [
    "Plotting the results reveals that the analytical and computational results show\n",
    "excellent agreement."
   ],
   "metadata": {}
  },
  {
   "outputs": [],
   "cell_type": "code",
   "source": [
    "using Plots\n",
    "pyplot()\n",
    "nothing #hide"
   ],
   "metadata": {},
   "execution_count": 3
  },
  {
   "outputs": [],
   "cell_type": "code",
   "source": [
    "# set up the plot\n",
    "plot(\n",
    "    xlim = (-0.25, 1.1),\n",
    "    xticks = -0.25:0.25:1.0,\n",
    "    xlabel = \"x/L\",\n",
    "    ylim = (-0.05, 0.8),\n",
    "    yticks = 0.0:0.2:0.8,\n",
    "    ylabel = \"y/L\",\n",
    "    aspect_ratio = 1.0,\n",
    "    grid = false,\n",
    "    overwrite_figure=false\n",
    "    )\n",
    "\n",
    "# create dummy legend entries for GXBeam and Analytical\n",
    "scatter!([], [], color=:black, label=\"GXBeam\")\n",
    "plot!([], [], color=:black, label=\"Analytical\")\n",
    "\n",
    "# plot the data\n",
    "for i = 1:length(M)\n",
    "\n",
    "    local x, y\n",
    "\n",
    "    # GXBeam\n",
    "    x = [assembly.points[ipoint][1] + states[i].points[ipoint].u[1] for ipoint =\n",
    "        1:length(assembly.points)]\n",
    "    y = [assembly.points[ipoint][2] + states[i].points[ipoint].u[2] for ipoint =\n",
    "        1:length(assembly.points)]\n",
    "    scatter!(x/L, y/L, label=\"\", color = i)\n",
    "\n",
    "    # Analytical\n",
    "    x0 = range(0, L, length=100)\n",
    "    deflection = analytical.(x0, E*Iyy/M[i])\n",
    "    x = (x0 + getindex.(deflection, 1))\n",
    "    y = getindex.(deflection, 2)\n",
    "    plot!(x/L, y/L, label=\"\\$\\\\lambda\\$=$(λ[i])\", color=i)\n",
    "end\n",
    "plot!(show=true)\n",
    "nothing #hide"
   ],
   "metadata": {},
   "execution_count": 4
  },
  {
   "cell_type": "markdown",
   "source": [
    "We can use this problem to test the accuracy and convergence of this package.  To do so\n",
    "we set $\\lambda = 1$ and repeat the analysis for a variety of grid sizes.  We measure\n",
    "the normalized tip displacement error $\\varepsilon(u)$ using the following expression\n",
    "$$\n",
    "\\varepsilon(u) = \\left| \\frac{u - u^a}{u^a} \\right|\n",
    "$$\n",
    "where $u$ is the calculated tip displacement (at x=L) and $u^a$ is the analytical\n",
    "tip displacement."
   ],
   "metadata": {}
  },
  {
   "outputs": [],
   "cell_type": "code",
   "source": [
    "grid_sizes = unique(round.(Int, 10 .^ range(0,3,length=25)))\n",
    "\n",
    "L = 12 # inches\n",
    "h = w = 1 # inches\n",
    "E = 30e6 # lb/in^4 Young's Modulus\n",
    "\n",
    "A = h*w\n",
    "Iyy = w*h^3/12\n",
    "Izz = w^3*h/12\n",
    "\n",
    "# bending moment (applied at end)\n",
    "λ = 1.0\n",
    "m = pi*E*Iyy/L\n",
    "M = λ*m\n",
    "\n",
    "# run an analysis for each grid size\n",
    "states = Vector{AssemblyState{Float64}}(undef, length(grid_sizes))\n",
    "for (igrid, nelem) in enumerate(grid_sizes)\n",
    "\n",
    "    local x, y, z, points, start, stop, compliance, assembly, system\n",
    "\n",
    "    # create points\n",
    "    x = range(0, L, length=nelem+1)\n",
    "    y = zero(x)\n",
    "    z = zero(x)\n",
    "    points = [[x[i],y[i],z[i]] for i = 1:length(x)]\n",
    "\n",
    "    # index of endpoints of each beam element\n",
    "    start = 1:nelem\n",
    "    stop = 2:nelem+1\n",
    "\n",
    "    # compliance matrix for each beam element\n",
    "    compliance = fill(Diagonal([1/(E*A), 0, 0, 0, 1/(E*Iyy), 1/(E*Izz)]), nelem)\n",
    "\n",
    "    # create assembly of interconnected nonlinear beams\n",
    "    assembly = Assembly(points, start, stop, compliance=compliance)\n",
    "\n",
    "    # create dictionary of prescribed conditions\n",
    "    prescribed_conditions = Dict(\n",
    "        # fixed left side\n",
    "        1 => PrescribedConditions(ux=0, uy=0, uz=0, theta_x=0, theta_y=0, theta_z=0),\n",
    "        # moment on right side\n",
    "        nelem+1 => PrescribedConditions(Mz = M)\n",
    "    )\n",
    "\n",
    "    # perform a static analysis\n",
    "    system, converged = static_analysis(assembly;\n",
    "        prescribed_conditions = prescribed_conditions)\n",
    "\n",
    "    # post-process the results\n",
    "    states[igrid] = AssemblyState(system, assembly;\n",
    "        prescribed_conditions = prescribed_conditions)\n",
    "\n",
    "end\n",
    "\n",
    "nothing #hide"
   ],
   "metadata": {},
   "execution_count": 5
  },
  {
   "outputs": [],
   "cell_type": "code",
   "source": [
    "# calculate analytical solution\n",
    "dxa, dya = analytical(L, E*Iyy/M)\n",
    "\n",
    "# extract computational solution\n",
    "dx = [states[igrid].points[end].u[1] for igrid = 1:length(grid_sizes)]\n",
    "dy = [states[igrid].points[end].u[2] for igrid = 1:length(grid_sizes)]\n",
    "\n",
    "# compute error\n",
    "εx = abs.((dx .- dxa) ./ dxa)\n",
    "εy = abs.((dy .- dya) ./ dya)\n",
    "\n",
    "nothing #hide"
   ],
   "metadata": {},
   "execution_count": 6
  },
  {
   "outputs": [],
   "cell_type": "code",
   "source": [
    "using Plots\n",
    "pyplot()\n",
    "nothing #hide"
   ],
   "metadata": {},
   "execution_count": 7
  },
  {
   "outputs": [],
   "cell_type": "code",
   "source": [
    "# plot the x-error\n",
    "p1 = plot(grid_sizes .+ 1, εx, label=\"\",\n",
    "    xlabel = \"Number of Nodes\",\n",
    "    xaxis=:log,\n",
    "    xlim = (10^0, 10^3),\n",
    "    xtick = 10.0 .^ (0:3),\n",
    "    ylabel = \"\\$\\\\varepsilon(u_x)\\$\",\n",
    "    yaxis=:log,\n",
    "    ylim = (-Inf, 10^0),\n",
    "    ytick = 10.0 .^ -(0:7),\n",
    "    overwrite_figure=false,\n",
    "    show=true)\n",
    "\n",
    "nothing #hide"
   ],
   "metadata": {},
   "execution_count": 8
  },
  {
   "outputs": [],
   "cell_type": "code",
   "source": [
    "# plot the y-error\n",
    "p2 = plot(grid_sizes .+ 1, εy, label=\"\",\n",
    "    xlabel = \"Number of Nodes\",\n",
    "    xaxis=:log,\n",
    "    xlim = (10^0, 10^3),\n",
    "    xtick = 10.0 .^ (0:3),\n",
    "    ylabel = \"\\$\\\\varepsilon(u_y)\\$\",\n",
    "    yaxis=:log,\n",
    "    ylim = (-Inf, 10^0),\n",
    "    ytick = 10.0 .^ -(0:7),\n",
    "    overwrite_figure=false,\n",
    "    show=true)\n",
    "\n",
    "nothing #hide"
   ],
   "metadata": {},
   "execution_count": 9
  },
  {
   "cell_type": "markdown",
   "source": [
    "We observe second-order algebraic convergence for both x and y tip displacement errors.\n",
    "We can therefore conclude that a large number of elements are likely necessary in order\n",
    "to obtain highly accurate solutions using this package.  For problems where high\n",
    "accuracy solutions are critical, higher order shape functions, such as the Legendre\n",
    "spectral finite elements used by [BeamDyn](https://www.nrel.gov/wind/nwtc/beamdyn.html)\n",
    "are likely more computationally efficient."
   ],
   "metadata": {}
  },
  {
   "cell_type": "markdown",
   "source": [
    "---\n",
    "\n",
    "*This notebook was generated using [Literate.jl](https://github.com/fredrikekre/Literate.jl).*"
   ],
   "metadata": {}
  }
 ],
 "nbformat_minor": 3,
 "metadata": {
  "language_info": {
   "file_extension": ".jl",
   "mimetype": "application/julia",
   "name": "julia",
   "version": "1.6.5"
  },
  "kernelspec": {
   "name": "julia-1.6",
   "display_name": "Julia 1.6.5",
   "language": "julia"
  }
 },
 "nbformat": 4
}
