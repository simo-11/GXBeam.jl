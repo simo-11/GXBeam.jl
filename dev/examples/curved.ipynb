{
 "cells": [
  {
   "cell_type": "markdown",
   "source": [
    "# Bending of an Initially Curved Beam\n",
    "\n",
    "This example is a common benchmark problem for the geometrically exact bending of\n",
    "nonlinear beams.\n",
    "\n",
    "![](../assets/curved-drawing.svg)"
   ],
   "metadata": {}
  },
  {
   "outputs": [
    {
     "name": "stdout",
     "output_type": "stream",
     "text": [
      "Tip Displacement: [-13.577383726805271, -23.54530333705645, 53.45800757556378]\n",
      "Tip Displacement (Bathe and Bolourch): [-13.4, -23.5, 53.4]\n"
     ]
    }
   ],
   "cell_type": "code",
   "source": [
    "using GXBeam, LinearAlgebra\n",
    "\n",
    "# problem constants\n",
    "R = 100\n",
    "L = R*pi/4 # inches\n",
    "h = w = 1 # inches\n",
    "E = 1e7 # psi Young's Modulus\n",
    "ν = 0.0\n",
    "G = E/(2*(1+ν))\n",
    "\n",
    "# beam starting point, frame, and curvature\n",
    "start = [0, 0, 0]\n",
    "frame = [0 -1 0; 1 0 0; 0 0 1]\n",
    "curvature = [0, 0, -1/R]\n",
    "\n",
    "# cross section properties\n",
    "A = h*w\n",
    "Ay = A\n",
    "Az = A\n",
    "Iyy = w*h^3/12\n",
    "Izz = w^3*h/12\n",
    "J = Iyy + Izz\n",
    "\n",
    "# discretize the beam\n",
    "nelem = 16\n",
    "ΔL, xp, xm, Cab = discretize_beam(L, start, nelem;\n",
    "    frame = frame,\n",
    "    curvature = curvature)\n",
    "\n",
    "# force\n",
    "P = 600 # lbs\n",
    "\n",
    "# index of left and right endpoints of each beam element\n",
    "pt1 = 1:nelem\n",
    "pt2 = 2:nelem+1\n",
    "\n",
    "# compliance matrix for each beam element\n",
    "compliance = fill(Diagonal([1/(E*A), 1/(G*Ay), 1/(G*Az), 1/(G*J), 1/(E*Iyy),\n",
    "    1/(E*Izz)]), nelem)\n",
    "\n",
    "# create assembly of interconnected nonlinear beams\n",
    "assembly = Assembly(xp, pt1, pt2, compliance=compliance, frames=Cab,\n",
    "    lengths=ΔL, midpoints=xm)\n",
    "\n",
    "# create dictionary of prescribed conditions\n",
    "prescribed_conditions = Dict(\n",
    "    # fixed left endpoint\n",
    "    1 => PrescribedConditions(ux=0, uy=0, uz=0, theta_x=0, theta_y=0, theta_z=0),\n",
    "    # force on right endpoint\n",
    "    nelem+1 => PrescribedConditions(Fz = P)\n",
    ")\n",
    "\n",
    "# perform static analysis\n",
    "system, converged = static_analysis(assembly;\n",
    "    prescribed_conditions = prescribed_conditions)\n",
    "\n",
    "# post-process results\n",
    "state = AssemblyState(system, assembly;\n",
    "    prescribed_conditions = prescribed_conditions)\n",
    "\n",
    "println(\"Tip Displacement: \", state.points[end].u)\n",
    "println(\"Tip Displacement (Bathe and Bolourch): [-13.4, -23.5, 53.4]\")"
   ],
   "metadata": {},
   "execution_count": 1
  },
  {
   "cell_type": "markdown",
   "source": [
    "The calculated tip displacements match those reported by Bathe and Bolourch in \"Large\n",
    "Displacement Analysis of Three-Dimensional Beam Structures\" closely, thus verifying our\n",
    "implementation of geometrically exact beam theory.\n",
    "\n",
    "We can visualize the deformed geometry and inspect the associated point and element data\n",
    "using ParaView."
   ],
   "metadata": {}
  },
  {
   "outputs": [],
   "cell_type": "code",
   "source": [
    "write_vtk(\"curved-visualization\", assembly, state)"
   ],
   "metadata": {},
   "execution_count": 2
  },
  {
   "cell_type": "markdown",
   "source": [
    "![](../assets/curved-visualization.png)"
   ],
   "metadata": {}
  },
  {
   "cell_type": "markdown",
   "source": [
    "---\n",
    "\n",
    "*This notebook was generated using [Literate.jl](https://github.com/fredrikekre/Literate.jl).*"
   ],
   "metadata": {}
  }
 ],
 "nbformat_minor": 3,
 "metadata": {
  "language_info": {
   "file_extension": ".jl",
   "mimetype": "application/julia",
   "name": "julia",
   "version": "1.6.5"
  },
  "kernelspec": {
   "name": "julia-1.6",
   "display_name": "Julia 1.6.5",
   "language": "julia"
  }
 },
 "nbformat": 4
}
